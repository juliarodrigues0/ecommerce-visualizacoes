{
  "nbformat": 4,
  "nbformat_minor": 0,
  "metadata": {
    "colab": {
      "provenance": [],
      "authorship_tag": "ABX9TyMFpPIbdgWzbsUbcV1+i4Sn",
      "include_colab_link": true
    },
    "kernelspec": {
      "name": "python3",
      "display_name": "Python 3"
    },
    "language_info": {
      "name": "python"
    }
  },
  "cells": [
    {
      "cell_type": "markdown",
      "metadata": {
        "id": "view-in-github",
        "colab_type": "text"
      },
      "source": [
        "<a href=\"https://colab.research.google.com/github/juliarodrigues0/ecommerce-visualizacoes/blob/main/aplica%C3%A7%C3%A3o_Dash.ipynb\" target=\"_parent\"><img src=\"https://colab.research.google.com/assets/colab-badge.svg\" alt=\"Open In Colab\"/></a>"
      ]
    },
    {
      "cell_type": "code",
      "source": [
        "import os\n",
        "os.makedirs(\"assets\", exist_ok=True)\n",
        "\n"
      ],
      "metadata": {
        "id": "u41cxmGeRd07"
      },
      "execution_count": null,
      "outputs": []
    },
    {
      "cell_type": "code",
      "source": [
        "import pandas as pd\n",
        "import matplotlib.pyplot as plt\n",
        "import seaborn as sns\n",
        "\n",
        "# Lê o arquivo\n",
        "df = pd.read_csv(\"ecommerce_estatistica.csv\")\n",
        "\n",
        "# Gráfico 1 - Histograma de notas\n",
        "plt.figure(figsize=(6,4))\n",
        "sns.histplot(df['Nota'], bins=10)\n",
        "plt.title(\"Distribuição das Notas\")\n",
        "plt.xlabel(\"Nota\")\n",
        "plt.ylabel(\"Frequência\")\n",
        "plt.tight_layout()\n",
        "plt.savefig(\"assets/histograma.png\", dpi=120)\n",
        "plt.close()\n",
        "\n",
        "# Gráfico 2 - Dispersão\n",
        "plt.figure(figsize=(6,4))\n",
        "sns.scatterplot(x='N_Avaliações', y='Qtd_Vendidos_Cod', data=df)\n",
        "plt.title(\"Avaliações vs Quantidade Vendida\")\n",
        "plt.tight_layout()\n",
        "plt.savefig(\"assets/dispersao.png\", dpi=120)\n",
        "plt.close()\n",
        "\n",
        "# Gráfico 3 - Heatmap\n",
        "plt.figure(figsize=(8,6))\n",
        "sns.heatmap(df.corr(numeric_only=True), annot=True, fmt=\".2f\", cmap=\"coolwarm\")\n",
        "plt.title(\"Mapa de Calor das Correlações\")\n",
        "plt.tight_layout()\n",
        "plt.savefig(\"assets/heatmap.png\", dpi=120)\n",
        "plt.close()\n"
      ],
      "metadata": {
        "id": "tNEuvO1MRqx0"
      },
      "execution_count": null,
      "outputs": []
    },
    {
      "cell_type": "code",
      "source": [
        "import glob\n",
        "print(glob.glob(\"assets/*\"))\n"
      ],
      "metadata": {
        "colab": {
          "base_uri": "https://localhost:8080/"
        },
        "id": "WXWSJMVqRzWy",
        "outputId": "0da26f4a-6029-4cad-cf84-88a0817cd404"
      },
      "execution_count": null,
      "outputs": [
        {
          "output_type": "stream",
          "name": "stdout",
          "text": [
            "['assets/dispersao.png', 'assets/histograma.png', 'assets/heatmap.png']\n"
          ]
        }
      ]
    },
    {
      "cell_type": "code",
      "source": [
        "import os, glob\n",
        "print(os.getcwd())\n",
        "print(os.path.isdir(\"assets\"))\n",
        "print(glob.glob(\"assets/*\"))\n"
      ],
      "metadata": {
        "colab": {
          "base_uri": "https://localhost:8080/"
        },
        "id": "auGCMtpeTKFX",
        "outputId": "c8e4a0e6-0df4-4ee6-f99c-33606146e8a2"
      },
      "execution_count": null,
      "outputs": [
        {
          "output_type": "stream",
          "name": "stdout",
          "text": [
            "/content\n",
            "True\n",
            "['assets/dispersao.png', 'assets/histograma.png', 'assets/heatmap.png']\n"
          ]
        }
      ]
    },
    {
      "cell_type": "code",
      "execution_count": null,
      "metadata": {
        "colab": {
          "base_uri": "https://localhost:8080/",
          "height": 671
        },
        "id": "5K0Z9xE7LSBz",
        "outputId": "aef619db-3ede-4f5c-e548-712b918677fc"
      },
      "outputs": [
        {
          "output_type": "display_data",
          "data": {
            "text/plain": [
              "<IPython.core.display.Javascript object>"
            ],
            "application/javascript": [
              "(async (port, path, width, height, cache, element) => {\n",
              "    if (!google.colab.kernel.accessAllowed && !cache) {\n",
              "      return;\n",
              "    }\n",
              "    element.appendChild(document.createTextNode(''));\n",
              "    const url = await google.colab.kernel.proxyPort(port, {cache});\n",
              "    const iframe = document.createElement('iframe');\n",
              "    iframe.src = new URL(path, url).toString();\n",
              "    iframe.height = height;\n",
              "    iframe.width = width;\n",
              "    iframe.style.border = 0;\n",
              "    iframe.allow = [\n",
              "        'accelerometer',\n",
              "        'autoplay',\n",
              "        'camera',\n",
              "        'clipboard-read',\n",
              "        'clipboard-write',\n",
              "        'gyroscope',\n",
              "        'magnetometer',\n",
              "        'microphone',\n",
              "        'serial',\n",
              "        'usb',\n",
              "        'xr-spatial-tracking',\n",
              "    ].join('; ');\n",
              "    element.appendChild(iframe);\n",
              "  })(8051, \"/\", \"100%\", 650, false, window.element)"
            ]
          },
          "metadata": {}
        }
      ],
      "source": [
        "import dash\n",
        "from dash import html\n",
        "\n",
        "# IMPORTANTe: a pasta \"assets\" deve estar no mesmo diretório deste script\n",
        "app = dash.Dash(__name__, assets_folder=\"assets\")\n",
        "\n",
        "app.layout = html.Div([\n",
        "    html.H1(\"Dashboard - Ecommerce\"),\n",
        "\n",
        "    html.H2(\"Distribuição das Notas\"),\n",
        "    html.Img(src=app.get_asset_url(\"histograma.png\"), style={\"width\":\"60%\"}),\n",
        "\n",
        "    html.H2(\"Avaliações vs Quantidade Vendida\"),\n",
        "    html.Img(src=app.get_asset_url(\"dispersao.png\"), style={\"width\":\"60%\"}),\n",
        "\n",
        "    html.H2(\"Mapa de Calor das Correlações\"),\n",
        "    html.Img(src=app.get_asset_url(\"heatmap.png\"), style={\"width\":\"60%\"}),\n",
        "])\n",
        "\n",
        "if __name__ == \"__main__\":\n",
        "    app.run(debug=False, host=\"0.0.0.0\", port=8051)\n",
        "\n",
        "\n",
        "\n",
        "\n",
        "\n"
      ]
    }
  ]
}